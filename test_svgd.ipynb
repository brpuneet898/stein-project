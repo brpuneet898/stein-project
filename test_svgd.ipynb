{
  "cells": [
    {
      "cell_type": "code",
      "execution_count": 1,
      "metadata": {
        "id": "UhfRLSMxRiJb"
      },
      "outputs": [],
      "source": [
        "import numpy as np\n",
        "import time"
      ]
    },
    {
      "cell_type": "code",
      "execution_count": 2,
      "metadata": {},
      "outputs": [],
      "source": [
        "from scripts.svgd import SVGD\n",
        "from scripts.log_posterior import log_posterior\n",
        "from scripts.grad_log_posterior import grad_log_posterior"
      ]
    },
    {
      "cell_type": "code",
      "execution_count": 3,
      "metadata": {
        "id": "2uZ1YLYaR-T0"
      },
      "outputs": [],
      "source": [
        "def test_gradient_validity():\n",
        "    particles = np.random.randn(100, 2)\n",
        "    grad = grad_log_posterior(particles)\n",
        "    assert grad.shape == particles.shape, \"Gradient shape mismatch.\"\n",
        "    assert not np.isnan(grad).any(), \"Gradient contains NaNs.\"\n",
        "    print(\"✅ Gradient shape and NaN check passed.\")"
      ]
    },
    {
      "cell_type": "code",
      "execution_count": 4,
      "metadata": {
        "id": "iPWmfcqRSAC-"
      },
      "outputs": [],
      "source": [
        "def compute_kl(p_samples, log_q_fn):\n",
        "    log_q = log_q_fn(p_samples)\n",
        "    log_p = -0.5 * np.sum(p_samples ** 2, axis=1)\n",
        "    return np.mean(log_p - log_q)"
      ]
    },
    {
      "cell_type": "code",
      "execution_count": 5,
      "metadata": {
        "id": "ngxA9ZGTSBgC"
      },
      "outputs": [],
      "source": [
        "def test_kl_divergence_decreases():\n",
        "    np.random.seed(42)\n",
        "    svgd = SVGD()\n",
        "    n_particles = 100\n",
        "    dim = 2\n",
        "    iterations = 300\n",
        "\n",
        "    particles = np.random.randn(n_particles, dim)\n",
        "    kl_values = []\n",
        "\n",
        "    for i in range(iterations):\n",
        "        particles = svgd.update(particles, grad_log_posterior)\n",
        "        if i % 50 == 0:\n",
        "            kl = compute_kl(particles, log_posterior)\n",
        "            kl_values.append(kl)\n",
        "\n",
        "    assert all(earlier >= later for earlier, later in zip(kl_values, kl_values[1:])), \\\n",
        "        f\"KL did not decrease over time: {kl_values}\"\n",
        "    print(\"✅ KL divergence decreases test passed.\")"
      ]
    },
    {
      "cell_type": "code",
      "execution_count": 6,
      "metadata": {
        "id": "VeooU_-2SDft"
      },
      "outputs": [],
      "source": [
        "def test_wall_time_under_limit():\n",
        "    np.random.seed(0)\n",
        "    svgd = SVGD()\n",
        "    n_particles = 100\n",
        "    dim = 2\n",
        "    iterations = 1000\n",
        "    time_budget_seconds = 20\n",
        "\n",
        "    particles = np.random.randn(n_particles, dim)\n",
        "    start_time = time.time()\n",
        "\n",
        "    for _ in range(iterations):\n",
        "        particles = svgd.update(particles, grad_log_posterior)\n",
        "\n",
        "    elapsed = time.time() - start_time\n",
        "    assert elapsed <= time_budget_seconds, f\"Wall-time exceeded: {elapsed:.2f}s > {time_budget_seconds}s\"\n",
        "    print(f\"✅ Wall-time test passed: {elapsed:.2f} seconds for {iterations} iterations\")"
      ]
    },
    {
      "cell_type": "code",
      "execution_count": 7,
      "metadata": {
        "colab": {
          "base_uri": "https://localhost:8080/"
        },
        "id": "mKn21dF3SFVW",
        "outputId": "5d22f49e-1fa8-40ba-bbf1-2fdb755ae0e8"
      },
      "outputs": [
        {
          "name": "stdout",
          "output_type": "stream",
          "text": [
            "✅ Gradient shape and NaN check passed.\n",
            "✅ KL divergence decreases test passed.\n",
            "✅ Wall-time test passed: 0.89 seconds for 1000 iterations\n"
          ]
        }
      ],
      "source": [
        "if __name__ == \"__main__\":\n",
        "    test_gradient_validity()\n",
        "    test_kl_divergence_decreases()\n",
        "    test_wall_time_under_limit()"
      ]
    }
  ],
  "metadata": {
    "colab": {
      "provenance": []
    },
    "kernelspec": {
      "display_name": "venv",
      "language": "python",
      "name": "python3"
    },
    "language_info": {
      "codemirror_mode": {
        "name": "ipython",
        "version": 3
      },
      "file_extension": ".py",
      "mimetype": "text/x-python",
      "name": "python",
      "nbconvert_exporter": "python",
      "pygments_lexer": "ipython3",
      "version": "3.12.10"
    }
  },
  "nbformat": 4,
  "nbformat_minor": 0
}
