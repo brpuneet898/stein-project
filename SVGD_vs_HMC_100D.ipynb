{
 "cells": [
  {
   "cell_type": "code",
   "execution_count": 2,
   "id": "cb3ba6a1",
   "metadata": {},
   "outputs": [],
   "source": [
    "%load_ext autoreload\n",
    "%autoreload 2"
   ]
  },
  {
   "cell_type": "code",
   "execution_count": 3,
   "id": "59e3ffd1",
   "metadata": {},
   "outputs": [],
   "source": [
    "import sys\n",
    "sys.path.append(\"./high_dimensionality_test_scripts\")"
   ]
  },
  {
   "cell_type": "code",
   "execution_count": 4,
   "id": "875c5828",
   "metadata": {},
   "outputs": [
    {
     "name": "stderr",
     "output_type": "stream",
     "text": [
      "WARNING (pytensor.configdefaults): g++ not available, if using conda: `conda install gxx`\n",
      "WARNING (pytensor.configdefaults): g++ not detected!  PyTensor will be unable to compile C-implementations and will default to Python. Performance may be severely degraded. To remove this warning, set PyTensor flags cxx to an empty string.\n"
     ]
    }
   ],
   "source": [
    "from high_dimensionality_test_scripts.run_experiments import run_and_log\n",
    "import pandas as pd"
   ]
  },
  {
   "cell_type": "code",
   "execution_count": null,
   "id": "316343ea",
   "metadata": {},
   "outputs": [
    {
     "name": "stdout",
     "output_type": "stream",
     "text": [
      "[data_utils] Requested n_components=100, but data has only 54 features. Using n_components=54.\n"
     ]
    },
    {
     "name": "stderr",
     "output_type": "stream",
     "text": [
      "SVGD iters: 100%|██████████| 1000/1000 [00:39<00:00, 25.35it/s]\n",
      "arviz - WARNING - Array contains NaN-value.\n",
      "Initializing NUTS using jitter+adapt_diag...\n",
      "c:\\My Folder\\projects\\stein-project\\venv\\Lib\\site-packages\\pytensor\\scalar\\basic.py:2094: RuntimeWarning: invalid value encountered in divide\n",
      "  return x / y\n",
      "Sequential sampling (2 chains in 1 job)\n",
      "NUTS: [w]\n"
     ]
    },
    {
     "data": {
      "text/html": [
       "<pre style=\"white-space:pre;overflow-x:auto;line-height:normal;font-family:Menlo,'DejaVu Sans Mono',consolas,'Courier New',monospace\">c:\\My Folder\\projects\\stein-project\\venv\\Lib\\site-packages\\rich\\live.py:256: UserWarning: install \"ipywidgets\" for \n",
       "Jupyter support\n",
       "  warnings.warn('install \"ipywidgets\" for Jupyter support')\n",
       "</pre>\n"
      ],
      "text/plain": [
       "c:\\My Folder\\projects\\stein-project\\venv\\Lib\\site-packages\\rich\\live.py:256: UserWarning: install \"ipywidgets\" for \n",
       "Jupyter support\n",
       "  warnings.warn('install \"ipywidgets\" for Jupyter support')\n"
      ]
     },
     "metadata": {},
     "output_type": "display_data"
    }
   ],
   "source": [
    "# df = run_and_log(results_csv=\"../results_svgd_hmc_100d.csv\", subset=100000,\n",
    "#                  svgd_particles=200, svgd_iters=1000, svgd_step=5e-4,\n",
    "#                  hmc_draws=500, hmc_tune=500, hmc_chains=2, seed=42)"
   ]
  },
  {
   "cell_type": "code",
   "execution_count": 8,
   "id": "00f6971f",
   "metadata": {},
   "outputs": [
    {
     "name": "stdout",
     "output_type": "stream",
     "text": [
      "[data_utils] Requested n_components=100, but data has only 54 features. Using n_components=54.\n"
     ]
    },
    {
     "name": "stderr",
     "output_type": "stream",
     "text": [
      "SVGD iters: 100%|██████████| 50/50 [00:00<00:00, 288.60it/s]\n",
      "Only 20 samples per chain. Reliable r-hat and ESS diagnostics require longer chains for accurate estimate.\n",
      "Initializing NUTS using jitter+adapt_diag...\n",
      "Sequential sampling (1 chains in 1 job)\n",
      "NUTS: [w]\n"
     ]
    },
    {
     "data": {
      "text/html": [
       "<pre style=\"white-space:pre;overflow-x:auto;line-height:normal;font-family:Menlo,'DejaVu Sans Mono',consolas,'Courier New',monospace\">c:\\My Folder\\projects\\stein-project\\venv\\Lib\\site-packages\\rich\\live.py:256: UserWarning: install \"ipywidgets\" for \n",
       "Jupyter support\n",
       "  warnings.warn('install \"ipywidgets\" for Jupyter support')\n",
       "</pre>\n"
      ],
      "text/plain": [
       "c:\\My Folder\\projects\\stein-project\\venv\\Lib\\site-packages\\rich\\live.py:256: UserWarning: install \"ipywidgets\" for \n",
       "Jupyter support\n",
       "  warnings.warn('install \"ipywidgets\" for Jupyter support')\n"
      ]
     },
     "metadata": {},
     "output_type": "display_data"
    },
    {
     "data": {
      "text/html": [
       "<pre style=\"white-space:pre;overflow-x:auto;line-height:normal;font-family:Menlo,'DejaVu Sans Mono',consolas,'Courier New',monospace\">c:\\My Folder\\projects\\stein-project\\venv\\Lib\\site-packages\\pytensor\\scalar\\basic.py:2094: RuntimeWarning: invalid \n",
       "value encountered in divide\n",
       "  return x / y\n",
       "</pre>\n"
      ],
      "text/plain": [
       "c:\\My Folder\\projects\\stein-project\\venv\\Lib\\site-packages\\pytensor\\scalar\\basic.py:2094: RuntimeWarning: invalid \n",
       "value encountered in divide\n",
       "  return x / y\n"
      ]
     },
     "metadata": {},
     "output_type": "display_data"
    },
    {
     "data": {
      "text/html": [
       "<pre style=\"white-space:pre;overflow-x:auto;line-height:normal;font-family:Menlo,'DejaVu Sans Mono',consolas,'Courier New',monospace\"></pre>\n"
      ],
      "text/plain": []
     },
     "metadata": {},
     "output_type": "display_data"
    },
    {
     "name": "stderr",
     "output_type": "stream",
     "text": [
      "Sampling 1 chain for 20 tune and 20 draw iterations (20 + 20 draws total) took 51 seconds.\n",
      "There were 20 divergences after tuning. Increase `target_accept` or reparameterize.\n",
      "The number of samples is too small to check convergence reliably.\n"
     ]
    },
    {
     "name": "stdout",
     "output_type": "stream",
     "text": [
      "Saved results to ../results_svgd_hmc_100d.csv\n"
     ]
    }
   ],
   "source": [
    "df = run_and_log(\n",
    "    results_csv=\"../results_svgd_hmc_100d.csv\",\n",
    "    subset=2000,\n",
    "    svgd_particles=20,\n",
    "    svgd_iters=50,\n",
    "    svgd_step=5e-4,\n",
    "    hmc_draws=20,\n",
    "    hmc_tune=20,\n",
    "    hmc_chains=1,\n",
    "    seed=42\n",
    ")\n"
   ]
  }
 ],
 "metadata": {
  "kernelspec": {
   "display_name": "venv",
   "language": "python",
   "name": "python3"
  },
  "language_info": {
   "codemirror_mode": {
    "name": "ipython",
    "version": 3
   },
   "file_extension": ".py",
   "mimetype": "text/x-python",
   "name": "python",
   "nbconvert_exporter": "python",
   "pygments_lexer": "ipython3",
   "version": "3.12.10"
  }
 },
 "nbformat": 4,
 "nbformat_minor": 5
}
