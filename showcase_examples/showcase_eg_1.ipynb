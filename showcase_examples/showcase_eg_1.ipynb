{
  "cells": [
    {
      "cell_type": "code",
      "execution_count": 1,
      "metadata": {
        "colab": {
          "base_uri": "https://localhost:8080/"
        },
        "id": "5dIxVc0bZb__",
        "outputId": "71d82657-6573-4f18-a351-3b1c3fe57ee9"
      },
      "outputs": [
        {
          "output_type": "stream",
          "name": "stdout",
          "text": [
            "Looking in indexes: https://test.pypi.org/simple/, https://pypi.org/simple/\n",
            "Requirement already satisfied: simple-stein-svgd in /usr/local/lib/python3.12/dist-packages (0.0.3)\n",
            "Requirement already satisfied: numpy in /usr/local/lib/python3.12/dist-packages (from simple-stein-svgd) (2.0.2)\n"
          ]
        }
      ],
      "source": [
        "!pip install --extra-index-url https://pypi.org/simple/ -i https://test.pypi.org/simple/ simple-stein-svgd"
      ]
    },
    {
      "cell_type": "code",
      "source": [
        "import numpy as np\n",
        "from simple_stein_svgd import SVGD"
      ],
      "metadata": {
        "id": "381ROIturtle"
      },
      "execution_count": 3,
      "outputs": []
    },
    {
      "cell_type": "code",
      "source": [
        "def log_prob(x):\n",
        "    return -0.5 * np.sum(x**2, axis=1)\n",
        "\n",
        "particles = np.random.randn(100, 1)\n",
        "svgd = SVGD(log_prob)\n",
        "for _ in range(100):\n",
        "    particles = svgd.update(particles, stepsize=0.05)\n",
        "\n",
        "print(\"Mean:\", np.mean(particles))\n",
        "print(\"Variance:\", np.var(particles))"
      ],
      "metadata": {
        "colab": {
          "base_uri": "https://localhost:8080/"
        },
        "id": "Y-B1Pjco6E_F",
        "outputId": "ee367f4f-f5c8-429b-beeb-dd954113f6e4"
      },
      "execution_count": 8,
      "outputs": [
        {
          "output_type": "stream",
          "name": "stdout",
          "text": [
            "Mean: 0.04028808683585711\n",
            "Variance: 0.2286345667668783\n"
          ]
        }
      ]
    },
    {
      "cell_type": "code",
      "execution_count": 6,
      "metadata": {
        "colab": {
          "base_uri": "https://localhost:8080/"
        },
        "id": "pLmPW9jsaB6p",
        "outputId": "054c07f6-d9dd-45d7-a505-048c5c5e4122"
      },
      "outputs": [
        {
          "output_type": "stream",
          "name": "stdout",
          "text": [
            "Mean: 0.029246979084311467\n",
            "Variance: 0.6762975649182059\n"
          ]
        }
      ],
      "source": [
        "def log_prob(x):\n",
        "    return -0.5 * np.sum(x**2, axis=1)\n",
        "\n",
        "particles = np.random.randn(100, 1)\n",
        "svgd = SVGD(log_prob)\n",
        "for _ in range(1000):\n",
        "    particles = svgd.update(particles, stepsize=0.05)\n",
        "\n",
        "print(\"Mean:\", np.mean(particles))\n",
        "print(\"Variance:\", np.var(particles))"
      ]
    }
  ],
  "metadata": {
    "colab": {
      "provenance": []
    },
    "kernelspec": {
      "display_name": "Python 3",
      "name": "python3"
    },
    "language_info": {
      "name": "python"
    }
  },
  "nbformat": 4,
  "nbformat_minor": 0
}