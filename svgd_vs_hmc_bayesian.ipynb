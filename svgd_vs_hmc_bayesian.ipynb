{
  "cells": [
    {
      "cell_type": "code",
      "source": [
        "!pip install aesara > /dev/null\n",
        "!pip install pymc > /dev/null\n",
        "!pip install arviz > /dev/null\n",
        "!pip install statsmodels > /dev/null"
      ],
      "metadata": {
        "colab": {
          "base_uri": "https://localhost:8080/"
        },
        "id": "wP3EmatM845h",
        "outputId": "2987c183-0bde-4c1c-ddff-0c0b2405b479"
      },
      "execution_count": 20,
      "outputs": [
        {
          "output_type": "stream",
          "name": "stdout",
          "text": [
            "\u001b[31mERROR: pip's dependency resolver does not currently take into account all the packages that are installed. This behaviour is the source of the following dependency conflicts.\n",
            "thinc 8.3.6 requires numpy<3.0.0,>=2.0.0, but you have numpy 1.26.4 which is incompatible.\n",
            "tsfresh 0.21.0 requires scipy>=1.14.0; python_version >= \"3.10\", but you have scipy 1.12.0 which is incompatible.\n",
            "sklearn-compat 0.1.3 requires scikit-learn<1.7,>=1.2, but you have scikit-learn 1.7.0 which is incompatible.\u001b[0m\u001b[31m\n",
            "\u001b[0m"
          ]
        }
      ]
    },
    {
      "cell_type": "code",
      "source": [
        "!pip install --upgrade --force-reinstall numpy scipy scikit-learn > /dev/null"
      ],
      "metadata": {
        "colab": {
          "base_uri": "https://localhost:8080/"
        },
        "id": "_0Kp1hxo9pFC",
        "outputId": "61076e67-d328-4d5f-87a7-91a8a2ab62e4"
      },
      "execution_count": 21,
      "outputs": [
        {
          "output_type": "stream",
          "name": "stdout",
          "text": [
            "\u001b[31mERROR: pip's dependency resolver does not currently take into account all the packages that are installed. This behaviour is the source of the following dependency conflicts.\n",
            "aesara 2.9.4 requires numpy<2.0.0,>=1.17.0, but you have numpy 2.3.1 which is incompatible.\n",
            "aesara 2.9.4 requires scipy<=1.12.0,>=0.14, but you have scipy 1.16.0 which is incompatible.\n",
            "cupy-cuda12x 13.3.0 requires numpy<2.3,>=1.22, but you have numpy 2.3.1 which is incompatible.\n",
            "sklearn-compat 0.1.3 requires scikit-learn<1.7,>=1.2, but you have scikit-learn 1.7.0 which is incompatible.\n",
            "numba 0.60.0 requires numpy<2.1,>=1.22, but you have numpy 2.3.1 which is incompatible.\n",
            "plotnine 0.14.6 requires scipy<1.16.0,>=1.8.0, but you have scipy 1.16.0 which is incompatible.\n",
            "tensorflow 2.18.0 requires numpy<2.1.0,>=1.26.0, but you have numpy 2.3.1 which is incompatible.\u001b[0m\u001b[31m\n",
            "\u001b[0m"
          ]
        }
      ]
    },
    {
      "cell_type": "code",
      "source": [
        "import numpy as np\n",
        "import matplotlib.pyplot as plt\n",
        "import pandas as pd\n",
        "import time\n",
        "import seaborn as sns\n",
        "import arviz as az\n",
        "\n",
        "import pymc as pm\n",
        "import pytensor.tensor as at\n",
        "\n",
        "from sklearn.datasets import make_classification\n",
        "from sklearn.model_selection import train_test_split\n",
        "from sklearn.preprocessing import StandardScaler\n"
      ],
      "metadata": {
        "id": "bmyZd2K-8gmh"
      },
      "execution_count": 22,
      "outputs": []
    },
    {
      "cell_type": "code",
      "source": [
        "X, y = make_classification(n_samples=1000, n_features=2, n_informative=2, n_redundant=0,\n",
        "                           n_clusters_per_class=1, flip_y=0.1, class_sep=2.0, random_state=42)\n",
        "\n",
        "X = StandardScaler().fit_transform(X)\n",
        "\n",
        "X_train, X_test, y_train, y_test = train_test_split(X, y, test_size=0.3, random_state=42)\n",
        "\n",
        "print(X_train.shape, y_train.shape)\n"
      ],
      "metadata": {
        "colab": {
          "base_uri": "https://localhost:8080/"
        },
        "id": "7-ND66CC8jmQ",
        "outputId": "d05d809f-7cc7-45e4-d603-d32415cb95b5"
      },
      "execution_count": 23,
      "outputs": [
        {
          "output_type": "stream",
          "name": "stdout",
          "text": [
            "(700, 2) (700,)\n"
          ]
        }
      ]
    },
    {
      "cell_type": "code",
      "source": [
        "def sigmoid(z):\n",
        "    return 1 / (1 + np.exp(-z))\n",
        "\n",
        "def log_prior(w, sigma_prior=5.0):\n",
        "    return -0.5 * np.sum((w / sigma_prior)**2, axis=1)\n",
        "\n",
        "def log_likelihood(w, X, y):\n",
        "    logits = X @ w.T\n",
        "    probs = sigmoid(logits)\n",
        "    y = y[:, None]\n",
        "    ll = y * np.log(probs + 1e-8) + (1 - y) * np.log(1 - probs + 1e-8)\n",
        "    return np.sum(ll, axis=0)\n",
        "\n",
        "def log_posterior(w, X, y):\n",
        "    return log_prior(w) + log_likelihood(w, X, y)\n"
      ],
      "metadata": {
        "id": "Wda4vi3n8kax"
      },
      "execution_count": 24,
      "outputs": []
    },
    {
      "cell_type": "code",
      "source": [
        "def rbf_kernel(X, h=-1):\n",
        "    N, D = X.shape\n",
        "    sq_dists = np.sum((X[:, None, :] - X[None, :, :])**2, axis=2)\n",
        "    if h <= 0:\n",
        "        h = np.median(sq_dists)\n",
        "        h = np.sqrt(0.5 * h / np.log(N + 1e-6))\n",
        "    K = np.exp(-sq_dists / (2 * h**2))\n",
        "    grad_K = -(X[:, None, :] - X[None, :, :]) * K[:, :, None] / (h**2)\n",
        "    return K, grad_K\n"
      ],
      "metadata": {
        "id": "30gImzc58l7Q"
      },
      "execution_count": 25,
      "outputs": []
    },
    {
      "cell_type": "code",
      "source": [
        "def svgd_step(particles, log_post_fn, X, y, stepsize=0.05):\n",
        "    N, D = particles.shape\n",
        "    eps = 1e-4\n",
        "    scores = np.zeros_like(particles)\n",
        "    for i in range(D):\n",
        "        shift = np.zeros(D)\n",
        "        shift[i] = eps\n",
        "        forward = log_post_fn(particles + shift[None, :], X, y)\n",
        "        backward = log_post_fn(particles - shift[None, :], X, y)\n",
        "        scores[:, i] = (forward - backward) / (2 * eps)\n",
        "    K, grad_K = rbf_kernel(particles)\n",
        "    phi = (K @ scores) / N + np.sum(grad_K, axis=1) / N\n",
        "    particles += stepsize * phi\n",
        "    return particles\n"
      ],
      "metadata": {
        "id": "3e0Xttj48nXi"
      },
      "execution_count": 26,
      "outputs": []
    },
    {
      "cell_type": "code",
      "source": [
        "np.random.seed(42)\n",
        "num_particles = 100\n",
        "particles = np.random.randn(num_particles, 2) * 2.0\n",
        "\n",
        "svgd_samples = []\n",
        "start = time.time()\n",
        "for it in range(500):\n",
        "    particles = svgd_step(particles, log_posterior, X_train, y_train, stepsize=0.05)\n",
        "    if it % 50 == 0:\n",
        "        print(f\"SVGD iter {it}\")\n",
        "    svgd_samples.append(particles.copy())\n",
        "end = time.time()\n",
        "\n",
        "svgd_time = end - start\n",
        "print(f\"SVGD time: {svgd_time:.2f}s\")\n"
      ],
      "metadata": {
        "colab": {
          "base_uri": "https://localhost:8080/"
        },
        "id": "dZ9szq4T8o9a",
        "outputId": "9547d481-6ee6-43aa-9037-42231aa49e4f"
      },
      "execution_count": 27,
      "outputs": [
        {
          "output_type": "stream",
          "name": "stdout",
          "text": [
            "SVGD iter 0\n",
            "SVGD iter 50\n",
            "SVGD iter 100\n",
            "SVGD iter 150\n",
            "SVGD iter 200\n",
            "SVGD iter 250\n",
            "SVGD iter 300\n",
            "SVGD iter 350\n",
            "SVGD iter 400\n",
            "SVGD iter 450\n",
            "SVGD time: 14.11s\n"
          ]
        }
      ]
    },
    {
      "cell_type": "code",
      "source": [
        "with pm.Model() as logistic_model:\n",
        "    w = pm.Normal(\"w\", mu=0, sigma=5, shape=2)\n",
        "    logits = pm.math.dot(X_train, w)\n",
        "    y_obs = pm.Bernoulli(\"y_obs\", logit_p=logits, observed=y_train)\n"
      ],
      "metadata": {
        "id": "Vg5NDHaZ8q2z"
      },
      "execution_count": 28,
      "outputs": []
    },
    {
      "cell_type": "code",
      "source": [
        "with logistic_model:\n",
        "    start = time.time()\n",
        "    trace = pm.sample(draws=500, tune=0, chains=1, cores=1, target_accept=0.8, progressbar=True)\n",
        "    end = time.time()\n",
        "hmc_time = end - start\n",
        "print(f\"HMC time: {hmc_time:.2f}s\")\n"
      ],
      "metadata": {
        "colab": {
          "base_uri": "https://localhost:8080/",
          "height": 119,
          "referenced_widgets": [
            "b117f1048b7e41ef8156011263006986",
            "0946732b9b524e11af28fdb8ec6640d2"
          ]
        },
        "id": "zSllha058rO4",
        "outputId": "65cf129f-7d8d-4eb5-bc52-07581c76233e"
      },
      "execution_count": 29,
      "outputs": [
        {
          "output_type": "display_data",
          "data": {
            "text/plain": [
              "Output()"
            ],
            "application/vnd.jupyter.widget-view+json": {
              "version_major": 2,
              "version_minor": 0,
              "model_id": "b117f1048b7e41ef8156011263006986"
            }
          },
          "metadata": {}
        },
        {
          "output_type": "display_data",
          "data": {
            "text/plain": [],
            "text/html": [
              "<pre style=\"white-space:pre;overflow-x:auto;line-height:normal;font-family:Menlo,'DejaVu Sans Mono',consolas,'Courier New',monospace\"></pre>\n"
            ]
          },
          "metadata": {}
        },
        {
          "output_type": "stream",
          "name": "stdout",
          "text": [
            "HMC time: 1.64s\n"
          ]
        }
      ]
    },
    {
      "cell_type": "code",
      "source": [
        "def compute_log_lik(X_test, y_test, weights_samples):\n",
        "    log_liks = []\n",
        "    for w in weights_samples:\n",
        "        logits = X_test @ w\n",
        "        p = sigmoid(logits)\n",
        "        ll = y_test * np.log(p + 1e-8) + (1 - y_test) * np.log(1 - p + 1e-8)\n",
        "        log_liks.append(np.mean(ll))\n",
        "    return np.mean(log_liks), np.std(log_liks)\n"
      ],
      "metadata": {
        "id": "FPeYWBI18vpo"
      },
      "execution_count": 30,
      "outputs": []
    },
    {
      "cell_type": "code",
      "source": [
        "svgd_flat = np.vstack(svgd_samples[-100:])\n",
        "svgd_mean_ll, svgd_std_ll = compute_log_lik(X_test, y_test, svgd_flat)\n",
        "print(f\"SVGD test log-likelihood: {svgd_mean_ll:.3f} ± {svgd_std_ll:.3f}\")\n"
      ],
      "metadata": {
        "colab": {
          "base_uri": "https://localhost:8080/"
        },
        "id": "gfMKwWlM8xIJ",
        "outputId": "a912b066-ef73-47ac-e3c5-d00ff06d619f"
      },
      "execution_count": 31,
      "outputs": [
        {
          "output_type": "stream",
          "name": "stdout",
          "text": [
            "SVGD test log-likelihood: -0.197 ± 0.001\n"
          ]
        }
      ]
    },
    {
      "cell_type": "code",
      "source": [
        "hmc_samples = trace.posterior['w'].stack(draws=(\"chain\", \"draw\")).values.T\n",
        "hmc_mean_ll, hmc_std_ll = compute_log_lik(X_test, y_test, hmc_samples)\n",
        "print(f\"HMC test log-likelihood: {hmc_mean_ll:.3f} ± {hmc_std_ll:.3f}\")\n"
      ],
      "metadata": {
        "colab": {
          "base_uri": "https://localhost:8080/"
        },
        "id": "rQnLMbOX8yVa",
        "outputId": "ef3d41b3-2068-4f00-faeb-eb8637571164"
      },
      "execution_count": 32,
      "outputs": [
        {
          "output_type": "stream",
          "name": "stdout",
          "text": [
            "HMC test log-likelihood: -0.197 ± 0.003\n"
          ]
        }
      ]
    },
    {
      "cell_type": "code",
      "source": [
        "ess_hmc = az.ess(trace)\n",
        "print(ess_hmc)\n",
        "ess_hmc_min = ess_hmc['w'].min().values\n",
        "ess_per_sec_hmc = ess_hmc_min / hmc_time\n",
        "print(f\"HMC ESS/sec: {ess_per_sec_hmc:.2f}\")\n"
      ],
      "metadata": {
        "colab": {
          "base_uri": "https://localhost:8080/"
        },
        "id": "KSLfvycd8zlP",
        "outputId": "69a9a77a-6915-441c-ddaf-afb06421cef3"
      },
      "execution_count": 33,
      "outputs": [
        {
          "output_type": "stream",
          "name": "stdout",
          "text": [
            "<xarray.Dataset> Size: 32B\n",
            "Dimensions:  (w_dim_0: 2)\n",
            "Coordinates:\n",
            "  * w_dim_0  (w_dim_0) int64 16B 0 1\n",
            "Data variables:\n",
            "    w        (w_dim_0) float64 16B 434.4 206.0\n",
            "HMC ESS/sec: 125.94\n"
          ]
        }
      ]
    },
    {
      "cell_type": "code",
      "source": [
        "from statsmodels.tsa.stattools import acf\n",
        "\n",
        "def autocorr_ess(chain):\n",
        "    acf_vals = acf(chain, nlags=40, fft=True)\n",
        "    act = 1 + 2 * np.sum(acf_vals[1:])\n",
        "    return len(chain) / act\n",
        "\n",
        "svgd_dim_ess = [autocorr_ess(svgd_flat[:, d]) for d in range(2)]\n",
        "ess_svgd = min(svgd_dim_ess)\n",
        "ess_per_sec_svgd = ess_svgd / svgd_time\n",
        "print(f\"SVGD ESS/sec: {ess_per_sec_svgd:.2f}\")\n"
      ],
      "metadata": {
        "colab": {
          "base_uri": "https://localhost:8080/"
        },
        "id": "2HA_DOuY80tp",
        "outputId": "a966986a-b3df-4fdb-b5f6-4b88b1129aec"
      },
      "execution_count": 34,
      "outputs": [
        {
          "output_type": "stream",
          "name": "stdout",
          "text": [
            "SVGD ESS/sec: 918.05\n"
          ]
        }
      ]
    },
    {
      "cell_type": "code",
      "source": [
        "results = pd.DataFrame({\n",
        "    'Sampler': ['SVGD', 'HMC'],\n",
        "    'ESS/sec': [ess_per_sec_svgd, ess_per_sec_hmc],\n",
        "    'Test log-likelihood': [svgd_mean_ll, hmc_mean_ll]\n",
        "})\n",
        "\n",
        "print(results)\n"
      ],
      "metadata": {
        "colab": {
          "base_uri": "https://localhost:8080/"
        },
        "id": "yol7TA2L81_h",
        "outputId": "638b1a52-c525-4e24-c52d-338a55ca050a"
      },
      "execution_count": 35,
      "outputs": [
        {
          "output_type": "stream",
          "name": "stdout",
          "text": [
            "  Sampler     ESS/sec  Test log-likelihood\n",
            "0    SVGD  918.045134            -0.196780\n",
            "1     HMC  125.938361            -0.197307\n"
          ]
        }
      ]
    }
  ],
  "metadata": {
    "colab": {
      "provenance": []
    },
    "kernelspec": {
      "display_name": "Python 3",
      "name": "python3"
    },
    "language_info": {
      "name": "python"
    },
    "widgets": {
      "application/vnd.jupyter.widget-state+json": {
        "b117f1048b7e41ef8156011263006986": {
          "model_module": "@jupyter-widgets/output",
          "model_name": "OutputModel",
          "model_module_version": "1.0.0",
          "state": {
            "_dom_classes": [],
            "_model_module": "@jupyter-widgets/output",
            "_model_module_version": "1.0.0",
            "_model_name": "OutputModel",
            "_view_count": null,
            "_view_module": "@jupyter-widgets/output",
            "_view_module_version": "1.0.0",
            "_view_name": "OutputView",
            "layout": "IPY_MODEL_0946732b9b524e11af28fdb8ec6640d2",
            "msg_id": "",
            "outputs": [
              {
                "output_type": "display_data",
                "data": {
                  "text/plain": "                                                                                                                   \n \u001b[1m \u001b[0m\u001b[1mProgress                \u001b[0m\u001b[1m \u001b[0m \u001b[1m \u001b[0m\u001b[1mDraws\u001b[0m\u001b[1m \u001b[0m \u001b[1m \u001b[0m\u001b[1mDivergences\u001b[0m\u001b[1m \u001b[0m \u001b[1m \u001b[0m\u001b[1mStep size\u001b[0m\u001b[1m \u001b[0m \u001b[1m \u001b[0m\u001b[1mGrad evals\u001b[0m\u001b[1m \u001b[0m \u001b[1m \u001b[0m\u001b[1mSampling Speed \u001b[0m\u001b[1m \u001b[0m \u001b[1m \u001b[0m\u001b[1mElapsed\u001b[0m\u001b[1m \u001b[0m \u001b[1m \u001b[0m\u001b[1mRemaining\u001b[0m\u001b[1m \u001b[0m \n ───────────────────────────────────────────────────────────────────────────────────────────────────────────────── \n  \u001b[38;2;31;119;180m━━━━━━━━━━━━━━━━━━━━━━━━\u001b[0m   500     0             0.21        3            1212.53 draws/s   0:00:00   0:00:00    \n                                                                                                                   \n",
                  "text/html": "<pre style=\"white-space:pre;overflow-x:auto;line-height:normal;font-family:Menlo,'DejaVu Sans Mono',consolas,'Courier New',monospace\">                                                                                                                   \n <span style=\"font-weight: bold\"> Progress                 </span> <span style=\"font-weight: bold\"> Draws </span> <span style=\"font-weight: bold\"> Divergences </span> <span style=\"font-weight: bold\"> Step size </span> <span style=\"font-weight: bold\"> Grad evals </span> <span style=\"font-weight: bold\"> Sampling Speed  </span> <span style=\"font-weight: bold\"> Elapsed </span> <span style=\"font-weight: bold\"> Remaining </span> \n ───────────────────────────────────────────────────────────────────────────────────────────────────────────────── \n  <span style=\"color: #1f77b4; text-decoration-color: #1f77b4\">━━━━━━━━━━━━━━━━━━━━━━━━</span>   500     0             0.21        3            1212.53 draws/s   0:00:00   0:00:00    \n                                                                                                                   \n</pre>\n"
                },
                "metadata": {}
              }
            ]
          }
        },
        "0946732b9b524e11af28fdb8ec6640d2": {
          "model_module": "@jupyter-widgets/base",
          "model_name": "LayoutModel",
          "model_module_version": "1.2.0",
          "state": {
            "_model_module": "@jupyter-widgets/base",
            "_model_module_version": "1.2.0",
            "_model_name": "LayoutModel",
            "_view_count": null,
            "_view_module": "@jupyter-widgets/base",
            "_view_module_version": "1.2.0",
            "_view_name": "LayoutView",
            "align_content": null,
            "align_items": null,
            "align_self": null,
            "border": null,
            "bottom": null,
            "display": null,
            "flex": null,
            "flex_flow": null,
            "grid_area": null,
            "grid_auto_columns": null,
            "grid_auto_flow": null,
            "grid_auto_rows": null,
            "grid_column": null,
            "grid_gap": null,
            "grid_row": null,
            "grid_template_areas": null,
            "grid_template_columns": null,
            "grid_template_rows": null,
            "height": null,
            "justify_content": null,
            "justify_items": null,
            "left": null,
            "margin": null,
            "max_height": null,
            "max_width": null,
            "min_height": null,
            "min_width": null,
            "object_fit": null,
            "object_position": null,
            "order": null,
            "overflow": null,
            "overflow_x": null,
            "overflow_y": null,
            "padding": null,
            "right": null,
            "top": null,
            "visibility": null,
            "width": null
          }
        }
      }
    }
  },
  "nbformat": 4,
  "nbformat_minor": 0
}